{
 "cells": [
  {
   "cell_type": "code",
   "execution_count": 1,
   "metadata": {},
   "outputs": [
    {
     "name": "stderr",
     "output_type": "stream",
     "text": [
      "c:\\Users\\Joan\\Coding\\fundar\\analisis-fmi\\venv\\Lib\\site-packages\\sentence_transformers\\cross_encoder\\CrossEncoder.py:13: TqdmExperimentalWarning: Using `tqdm.autonotebook.tqdm` in notebook mode. Use `tqdm.tqdm` instead to force console mode (e.g. in jupyter console)\n",
      "  from tqdm.autonotebook import tqdm, trange\n"
     ]
    }
   ],
   "source": [
    "from sentence_transformers import CrossEncoder\n",
    "from tqdm.auto import tqdm\n",
    "import polars\n",
    "import os\n",
    "\n",
    "preguntas = polars.read_csv('../data/preguntas_clean_arg.csv')\n",
    "\n",
    "p_embeddings_paths = dict()\n",
    "for qid in preguntas['qid'].unique(maintain_order=True):\n",
    "    path = f'../data/{qid}_embeddings.parquet'\n",
    "    assert os.path.exists(path) and os.path.isfile(path)\n",
    "    p_embeddings_paths[qid] = path"
   ]
  },
  {
   "cell_type": "code",
   "execution_count": 2,
   "metadata": {},
   "outputs": [],
   "source": [
    "reranker_model = CrossEncoder(model_name='cross-encoder/ms-marco-MiniLM-L-6-v2', device='cuda')"
   ]
  },
  {
   "cell_type": "code",
   "execution_count": 3,
   "metadata": {},
   "outputs": [
    {
     "data": {
      "application/vnd.jupyter.widget-view+json": {
       "model_id": "a58eaf61dad84b6fb7e6728aa6ef96e6",
       "version_major": 2,
       "version_minor": 0
      },
      "text/plain": [
       "  0%|          | 0/10 [00:00<?, ?it/s]"
      ]
     },
     "metadata": {},
     "output_type": "display_data"
    },
    {
     "data": {
      "application/vnd.jupyter.widget-view+json": {
       "model_id": "b5fd35e67c2c4e82bd5da1a6d7c36932",
       "version_major": 2,
       "version_minor": 0
      },
      "text/plain": [
       "Batches:   0%|          | 0/68 [00:00<?, ?it/s]"
      ]
     },
     "metadata": {},
     "output_type": "display_data"
    },
    {
     "data": {
      "application/vnd.jupyter.widget-view+json": {
       "model_id": "1bb568233c8a448b90f71cd4f36349e5",
       "version_major": 2,
       "version_minor": 0
      },
      "text/plain": [
       "Batches:   0%|          | 0/68 [00:00<?, ?it/s]"
      ]
     },
     "metadata": {},
     "output_type": "display_data"
    },
    {
     "data": {
      "application/vnd.jupyter.widget-view+json": {
       "model_id": "9f7d98ad98904d00ba2d028520f2982d",
       "version_major": 2,
       "version_minor": 0
      },
      "text/plain": [
       "Batches:   0%|          | 0/68 [00:00<?, ?it/s]"
      ]
     },
     "metadata": {},
     "output_type": "display_data"
    },
    {
     "data": {
      "application/vnd.jupyter.widget-view+json": {
       "model_id": "7ab1f19c940444bca8c246017738fd8b",
       "version_major": 2,
       "version_minor": 0
      },
      "text/plain": [
       "Batches:   0%|          | 0/68 [00:00<?, ?it/s]"
      ]
     },
     "metadata": {},
     "output_type": "display_data"
    },
    {
     "data": {
      "application/vnd.jupyter.widget-view+json": {
       "model_id": "bb26e279e25b466a9a0fa5fe74142149",
       "version_major": 2,
       "version_minor": 0
      },
      "text/plain": [
       "Batches:   0%|          | 0/68 [00:00<?, ?it/s]"
      ]
     },
     "metadata": {},
     "output_type": "display_data"
    },
    {
     "data": {
      "application/vnd.jupyter.widget-view+json": {
       "model_id": "d7f7d7c0e5094ee593623ea44e222429",
       "version_major": 2,
       "version_minor": 0
      },
      "text/plain": [
       "Batches:   0%|          | 0/68 [00:00<?, ?it/s]"
      ]
     },
     "metadata": {},
     "output_type": "display_data"
    },
    {
     "data": {
      "application/vnd.jupyter.widget-view+json": {
       "model_id": "dd5e2aeba52c481ca9a364859b1ca700",
       "version_major": 2,
       "version_minor": 0
      },
      "text/plain": [
       "Batches:   0%|          | 0/68 [00:00<?, ?it/s]"
      ]
     },
     "metadata": {},
     "output_type": "display_data"
    },
    {
     "data": {
      "application/vnd.jupyter.widget-view+json": {
       "model_id": "4aa46134be26415e97d267e29cb97981",
       "version_major": 2,
       "version_minor": 0
      },
      "text/plain": [
       "Batches:   0%|          | 0/68 [00:00<?, ?it/s]"
      ]
     },
     "metadata": {},
     "output_type": "display_data"
    },
    {
     "data": {
      "application/vnd.jupyter.widget-view+json": {
       "model_id": "00773869a626465db29feb449a734974",
       "version_major": 2,
       "version_minor": 0
      },
      "text/plain": [
       "Batches:   0%|          | 0/68 [00:00<?, ?it/s]"
      ]
     },
     "metadata": {},
     "output_type": "display_data"
    },
    {
     "data": {
      "application/vnd.jupyter.widget-view+json": {
       "model_id": "a6b2e4c41c954735a163151909874a64",
       "version_major": 2,
       "version_minor": 0
      },
      "text/plain": [
       "Batches:   0%|          | 0/68 [00:00<?, ?it/s]"
      ]
     },
     "metadata": {},
     "output_type": "display_data"
    }
   ],
   "source": [
    "absolute_max = -1\n",
    "absolute_min = float('inf')\n",
    "\n",
    "for pregunta in tqdm(preguntas['qid'].unique(maintain_order=True)):\n",
    "  pregunta_embeddings_path = p_embeddings_paths[pregunta]\n",
    "  df = polars.read_parquet(pregunta_embeddings_path)\n",
    "\n",
    "  pairs = (\n",
    "      df.join(preguntas['qid', 'pregunta'], how='left', left_on='distance_to', right_on='qid')\n",
    "        .select('pregunta', 'text')\n",
    "      )\n",
    "\n",
    "  scores = reranker_model.predict(\n",
    "      sentences = list(pairs.iter_rows()),\n",
    "      batch_size = 100,\n",
    "      show_progress_bar = True\n",
    "  )\n",
    "\n",
    "  absolute_max = max(absolute_max, max(scores))\n",
    "  absolute_min = min(absolute_min, min(scores))\n",
    "\n",
    "  (df\n",
    "    .with_columns(score = scores)\n",
    "    .select('vector_id', 'distance_to' ,'score')\n",
    "    .rename(dict(distance_to='score_to'))\n",
    "    .sort('score', descending=True)\n",
    "    .write_parquet(f'../data/{pregunta}_relevance_scores.parquet')\n",
    "  )"
   ]
  },
  {
   "cell_type": "code",
   "execution_count": 13,
   "metadata": {},
   "outputs": [],
   "source": [
    "from fundar import json\n",
    "import numpy as np\n",
    "\n",
    "class NumpyJsonEncoder(json.JSONEncoder):\n",
    "    def default(self, o):\n",
    "        if isinstance(o, np.floating):\n",
    "            return float(o)\n",
    "\n",
    "json.dump(\n",
    "    dict(\n",
    "        absolute_max=absolute_max,\n",
    "        absolute_min=absolute_min\n",
    "    ),\n",
    "    '../data/normalizer_absolute_extremes.json',\n",
    "    cls=NumpyJsonEncoder\n",
    ")"
   ]
  },
  {
   "cell_type": "code",
   "execution_count": null,
   "metadata": {},
   "outputs": [],
   "source": []
  }
 ],
 "metadata": {
  "kernelspec": {
   "display_name": "venv",
   "language": "python",
   "name": "python3"
  },
  "language_info": {
   "codemirror_mode": {
    "name": "ipython",
    "version": 3
   },
   "file_extension": ".py",
   "mimetype": "text/x-python",
   "name": "python",
   "nbconvert_exporter": "python",
   "pygments_lexer": "ipython3",
   "version": "3.11.6"
  }
 },
 "nbformat": 4,
 "nbformat_minor": 2
}
