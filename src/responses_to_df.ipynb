{
 "cells": [
  {
   "cell_type": "code",
   "execution_count": null,
   "metadata": {},
   "outputs": [],
   "source": [
    "from fundar_llms.api.ollama import OllamaResponse\n",
    "import fundar.json\n",
    "from glob import glob\n",
    "import polars as pl\n",
    "\n",
    "\n",
    "def load_and_process(path: str):\n",
    "    return process_response(fundar.json.load(path))\n",
    "\n",
    "def process_response(data: dict):\n",
    "    data.pop('context')\n",
    "    data['extra'].pop('options')\n",
    "    data['presidente'] = data['extra'].pop('presidente')\n",
    "    data['ran_on'] = data['extra'].pop('run_on').replace('_ADDRESS', '')\n",
    "    data['qid'] = data['extra'].pop('qid')\n",
    "\n",
    "    assert 0 == len(data['extra'])\n",
    "\n",
    "    data.pop('extra')\n",
    "\n",
    "    return data"
   ]
  },
  {
   "cell_type": "code",
   "execution_count": null,
   "metadata": {},
   "outputs": [],
   "source": [
    "responses = glob('../data/responses/q?-*-*.json')\n",
    "responses = map(load_and_process, responses)\n",
    "responses = list(responses)"
   ]
  },
  {
   "cell_type": "code",
   "execution_count": null,
   "metadata": {},
   "outputs": [],
   "source": [
    "df = pl.DataFrame(responses)"
   ]
  },
  {
   "cell_type": "code",
   "execution_count": null,
   "metadata": {},
   "outputs": [],
   "source": [
    "df.with_columns([\n",
    "    pl.col('created_at').str.to_datetime().dt.convert_time_zone('America/Argentina/Buenos_Aires')\n",
    "]).sort('created_at').with_columns([pl.col('created_at').dt.strftime('%Y/%m/%d %H:%M:%S')]).write_excel('../data/responses.xlsx')"
   ]
  }
 ],
 "metadata": {
  "kernelspec": {
   "display_name": "venv",
   "language": "python",
   "name": "python3"
  },
  "language_info": {
   "codemirror_mode": {
    "name": "ipython",
    "version": 3
   },
   "file_extension": ".py",
   "mimetype": "text/x-python",
   "name": "python",
   "nbconvert_exporter": "python",
   "pygments_lexer": "ipython3",
   "version": "3.11.6"
  }
 },
 "nbformat": 4,
 "nbformat_minor": 2
}
