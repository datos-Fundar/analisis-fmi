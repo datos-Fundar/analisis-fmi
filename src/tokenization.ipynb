{
 "cells": [
  {
   "cell_type": "code",
   "execution_count": 1,
   "metadata": {},
   "outputs": [],
   "source": [
    "from fundar_llms.api.tokenizers import get_tokenizer\n",
    "import polars\n",
    "\n",
    "tokenizer = get_tokenizer('llama3.2').auto_tokenizer_from_pretrained()\n",
    "\n",
    "def tokens(x: str):\n",
    "    return len(tokenizer.tokenize(x))"
   ]
  },
  {
   "cell_type": "code",
   "execution_count": 9,
   "metadata": {},
   "outputs": [
    {
     "data": {
      "text/plain": [
       "19998"
      ]
     },
     "execution_count": 9,
     "metadata": {},
     "output_type": "execute_result"
    }
   ],
   "source": [
    "tokens(\"What is the tallest building in the world?\"*2222)"
   ]
  },
  {
   "cell_type": "code",
   "execution_count": 18,
   "metadata": {},
   "outputs": [],
   "source": [
    "arg_embeddings = polars.read_parquet('../data/arg_embeddings.parquet')['vector_id', 'text']"
   ]
  },
  {
   "cell_type": "code",
   "execution_count": 22,
   "metadata": {},
   "outputs": [],
   "source": [
    "arg_embeddings.with_columns([\n",
    "    polars.col('text')\n",
    "        .map_elements(tokens, return_dtype=polars.Int64)\n",
    "        .alias('token_count')\n",
    "]).write_parquet('../data/arg_token_counts.parquet')"
   ]
  }
 ],
 "metadata": {
  "kernelspec": {
   "display_name": "venv",
   "language": "python",
   "name": "python3"
  },
  "language_info": {
   "codemirror_mode": {
    "name": "ipython",
    "version": 3
   },
   "file_extension": ".py",
   "mimetype": "text/x-python",
   "name": "python",
   "nbconvert_exporter": "python",
   "pygments_lexer": "ipython3",
   "version": "3.11.6"
  }
 },
 "nbformat": 4,
 "nbformat_minor": 2
}
