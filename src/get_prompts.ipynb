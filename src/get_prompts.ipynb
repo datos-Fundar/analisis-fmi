{
 "cells": [
  {
   "cell_type": "code",
   "execution_count": 1,
   "metadata": {},
   "outputs": [],
   "source": [
    "import polars\n",
    "from fundar import json\n",
    "\n",
    "docs_por_presidencia = json.load('../data/docs_por_presidencia.json')\n",
    "docs_por_presidencia = polars.DataFrame([\n",
    "    dict(source=x, presidente=k)\n",
    "    for k,v in docs_por_presidencia.items()\n",
    "    for x in v\n",
    "])\n",
    "\n",
    "presidentes = docs_por_presidencia['presidente'].unique(maintain_order=True).to_list()\n",
    "\n",
    "arg_embeddings = (\n",
    "    polars\n",
    "        .scan_parquet('../data/arg_embeddings.parquet')\n",
    "        .select('vector_id', 'source'))\n",
    "\n",
    "arg_tokencount = (\n",
    "    polars\n",
    "        .scan_parquet('../data/arg_token_counts.parquet')\n",
    "        .select('vector_id', 'token_count'))\n",
    "\n",
    "preguntas = polars.read_csv('../data/preguntas_clean_arg.csv')['qid'].unique(maintain_order=True).to_list()"
   ]
  },
  {
   "cell_type": "code",
   "execution_count": 2,
   "metadata": {},
   "outputs": [],
   "source": [
    "MAX_TOKENS = 20_000\n",
    "\n",
    "for presidente in presidentes:\n",
    "    for pregunta in preguntas:\n",
    "        df = (\n",
    "            polars\n",
    "                .scan_parquet(f\"../data/{pregunta}_normalized_score.parquet\")\n",
    "                .join(arg_embeddings, on='vector_id', how='left')\n",
    "                .join(arg_tokencount, on='vector_id', how='left')\n",
    "                .join(docs_por_presidencia.lazy(), on='source')\n",
    "                .filter(polars.col('presidente') == presidente)\n",
    "                .sort('normalized_score', descending=True)\n",
    "                .with_columns([\n",
    "                    polars.col('token_count').cum_sum().alias('cumsum')\n",
    "                ])\n",
    "                # .filter(polars.col('cumsum') <= 20_000)\n",
    "        )\n",
    "\n",
    "        df = df.collect()\n",
    "        filtered_df = df.filter(polars.col('cumsum') <= MAX_TOKENS)        \n",
    "\n",
    "        filtered_df.write_parquet(f'../data/relevant_chunks_{pregunta}-{presidente}.parquet')"
   ]
  },
  {
   "cell_type": "code",
   "execution_count": null,
   "metadata": {},
   "outputs": [],
   "source": []
  }
 ],
 "metadata": {
  "kernelspec": {
   "display_name": "venv",
   "language": "python",
   "name": "python3"
  },
  "language_info": {
   "codemirror_mode": {
    "name": "ipython",
    "version": 3
   },
   "file_extension": ".py",
   "mimetype": "text/x-python",
   "name": "python",
   "nbconvert_exporter": "python",
   "pygments_lexer": "ipython3",
   "version": "3.11.6"
  }
 },
 "nbformat": 4,
 "nbformat_minor": 2
}
