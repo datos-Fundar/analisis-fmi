{
 "cells": [
  {
   "cell_type": "code",
   "execution_count": 1,
   "metadata": {},
   "outputs": [],
   "source": [
    "from fundar_llms.api.tokenizers import get_tokenizer\n",
    "from itertools import product\n",
    "from fundar import json\n",
    "from glob import glob\n",
    "import polars"
   ]
  },
  {
   "cell_type": "code",
   "execution_count": 2,
   "metadata": {},
   "outputs": [],
   "source": [
    "docs_por_presidencia = json.load('../data/docs_por_presidencia.json')\n",
    "docs_por_presidencia = polars.DataFrame([\n",
    "    dict(source=x, presidente=k)\n",
    "    for k,v in docs_por_presidencia.items()\n",
    "    for x in v\n",
    "])\n",
    "\n",
    "preguntas_df = polars.read_csv('../data/preguntas_clean_arg.csv')['qid', 'pregunta'].unique(maintain_order=True)\n",
    "\n",
    "preguntas_dict = dict(preguntas_df.iter_rows())\n",
    "preguntas_qid = preguntas_df['qid'].to_list()\n",
    "presidentes = docs_por_presidencia['presidente'].unique(maintain_order=True).to_list()\n",
    "\n",
    "arg_embeddings = polars.read_parquet('../data/arg_embeddings.parquet')"
   ]
  },
  {
   "cell_type": "code",
   "execution_count": 3,
   "metadata": {},
   "outputs": [],
   "source": [
    "tokenizer = get_tokenizer('llama3.2').auto_tokenizer_from_pretrained()"
   ]
  },
  {
   "cell_type": "code",
   "execution_count": 4,
   "metadata": {},
   "outputs": [],
   "source": [
    "relevant_chunks = glob('../data/relevant_chunks_q?-*.parquet')"
   ]
  },
  {
   "cell_type": "code",
   "execution_count": 5,
   "metadata": {},
   "outputs": [],
   "source": [
    "preguntas = []\n",
    "for qid, presidente in product(preguntas_qid, presidentes):\n",
    "    relevant_chunks_for_question_path = filter(lambda x: qid in x and presidente in x, relevant_chunks)\n",
    "    relevant_chunks_for_question_path = list(relevant_chunks_for_question_path)\n",
    "    \n",
    "    assert len(relevant_chunks_for_question_path) == 1\n",
    "\n",
    "    relevant_chunks_for_question = polars.read_parquet(relevant_chunks_for_question_path)\n",
    "    relevant_chunks_for_question_with_text = relevant_chunks_for_question.join(arg_embeddings, on='vector_id')\n",
    "\n",
    "    pregunta_text = preguntas_dict[qid]\n",
    "    text = relevant_chunks_for_question_with_text['text'].str.join('\\n')[0]\n",
    "\n",
    "    preguntas.append(dict(\n",
    "        pregunta = qid,\n",
    "        pregunta_text = pregunta_text,\n",
    "        presidente = presidente,\n",
    "        contexto = text\n",
    "    ))"
   ]
  },
  {
   "cell_type": "code",
   "execution_count": 6,
   "metadata": {},
   "outputs": [],
   "source": [
    "polars.DataFrame(preguntas).write_parquet('../data/preguntas.parquet')"
   ]
  },
  {
   "cell_type": "code",
   "execution_count": null,
   "metadata": {},
   "outputs": [],
   "source": []
  }
 ],
 "metadata": {
  "kernelspec": {
   "display_name": "venv",
   "language": "python",
   "name": "python3"
  },
  "language_info": {
   "codemirror_mode": {
    "name": "ipython",
    "version": 3
   },
   "file_extension": ".py",
   "mimetype": "text/x-python",
   "name": "python",
   "nbconvert_exporter": "python",
   "pygments_lexer": "ipython3",
   "version": "3.11.6"
  }
 },
 "nbformat": 4,
 "nbformat_minor": 2
}
