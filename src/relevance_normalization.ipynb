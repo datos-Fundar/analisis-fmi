{
 "cells": [
  {
   "cell_type": "code",
   "execution_count": 1,
   "metadata": {},
   "outputs": [],
   "source": [
    "from glob import glob\n",
    "import polars\n",
    "from fundar.utils import map_value\n",
    "\n",
    "absolute_max = 5.177615165710449\n",
    "absolute_min = -11.479151725769043\n",
    "\n",
    "def normalize(x):\n",
    "    return map_value(\n",
    "        value=x,\n",
    "        istart=absolute_min,\n",
    "        istop=absolute_max,\n",
    "        ostart=0,\n",
    "        ostop=1\n",
    "    )\n",
    "\n",
    "relevance_paths = glob('../data/q?_relevance_scores.parquet')\n",
    "\n",
    "for path in relevance_paths: \n",
    "    (polars.scan_parquet(path)\n",
    "        .with_columns([\n",
    "            polars.col('score')\n",
    "                .map_elements(normalize,return_dtype=polars.Float64)\n",
    "                .alias('normalized_score')])\n",
    "        .drop('score')\n",
    "        .collect()\n",
    "        .write_parquet(f\"{path[:10]}_normalized_score.parquet\")\n",
    "    )"
   ]
  },
  {
   "cell_type": "code",
   "execution_count": null,
   "metadata": {},
   "outputs": [],
   "source": []
  },
  {
   "cell_type": "code",
   "execution_count": null,
   "metadata": {},
   "outputs": [],
   "source": []
  }
 ],
 "metadata": {
  "kernelspec": {
   "display_name": "venv",
   "language": "python",
   "name": "python3"
  },
  "language_info": {
   "codemirror_mode": {
    "name": "ipython",
    "version": 3
   },
   "file_extension": ".py",
   "mimetype": "text/x-python",
   "name": "python",
   "nbconvert_exporter": "python",
   "pygments_lexer": "ipython3",
   "version": "3.11.6"
  }
 },
 "nbformat": 4,
 "nbformat_minor": 2
}
