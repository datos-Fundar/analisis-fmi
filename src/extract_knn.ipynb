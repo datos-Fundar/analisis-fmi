{
 "cells": [
  {
   "cell_type": "code",
   "execution_count": 1,
   "metadata": {},
   "outputs": [],
   "source": [
    "import chromadb\n",
    "import polars\n",
    "from chromadb.utils.embedding_functions import SentenceTransformerEmbeddingFunction as SentenceTransformer\n",
    "from tqdm.auto import tqdm\n",
    "from utils import TaggedVector\n",
    "\n",
    "class pregunta(str):\n",
    "    def __new__(cls, pregunta, qid):\n",
    "        obj = super().__new__(cls, pregunta)\n",
    "        obj.qid = qid\n",
    "        return obj\n",
    "\n",
    "    def __init__(self, pregunta, qid): ...\n",
    "\n",
    "    @classmethod\n",
    "    def from_dict(self, x: dict[str, str]):\n",
    "        return pregunta(**x)\n",
    "\n",
    "    def __repr__(self):\n",
    "        return f\"pregunta(content='{self!s}', qid={self.qid!r})\""
   ]
  },
  {
   "cell_type": "code",
   "execution_count": 2,
   "metadata": {},
   "outputs": [],
   "source": [
    "client = chromadb.PersistentClient('persist/')"
   ]
  },
  {
   "cell_type": "code",
   "execution_count": 3,
   "metadata": {},
   "outputs": [
    {
     "data": {
      "text/plain": [
       "[Collection(name=imf_publications_arg)]"
      ]
     },
     "execution_count": 3,
     "metadata": {},
     "output_type": "execute_result"
    }
   ],
   "source": [
    "client.list_collections()"
   ]
  },
  {
   "cell_type": "code",
   "execution_count": 4,
   "metadata": {},
   "outputs": [
    {
     "name": "stdout",
     "output_type": "stream",
     "text": [
      "Colecciones en la base:\n",
      "imf_publications_arg : 10446 vectores.\n"
     ]
    }
   ],
   "source": [
    "print('Colecciones en la base:')\n",
    "for collection in client.list_collections():\n",
    "    print(f\"{collection.name} : {collection.count()} vectores.\")"
   ]
  },
  {
   "cell_type": "code",
   "execution_count": 5,
   "metadata": {},
   "outputs": [],
   "source": [
    "arg = client.get_collection('imf_publications_arg', embedding_function=SentenceTransformer('sentence-transformers/all-mpnet-base-v2'))"
   ]
  },
  {
   "cell_type": "code",
   "execution_count": 6,
   "metadata": {},
   "outputs": [],
   "source": [
    "preguntas = polars.read_csv('../data/preguntas_clean_arg.csv')['qid', 'pregunta'].unique(maintain_order=True)\n",
    "preguntas = map(pregunta.from_dict, preguntas.to_dicts())\n",
    "preguntas = list(preguntas)"
   ]
  },
  {
   "cell_type": "code",
   "execution_count": null,
   "metadata": {},
   "outputs": [
    {
     "data": {
      "application/vnd.jupyter.widget-view+json": {
       "model_id": "d9f45c104992473f8161fcad65a51619",
       "version_major": 2,
       "version_minor": 0
      },
      "text/plain": [
       "  0%|          | 0/10 [00:00<?, ?it/s]"
      ]
     },
     "metadata": {},
     "output_type": "display_data"
    },
    {
     "data": {
      "application/vnd.jupyter.widget-view+json": {
       "model_id": "3f37d2218c674afda7ed0ccbd3d2f525",
       "version_major": 2,
       "version_minor": 0
      },
      "text/plain": [
       "  0%|          | 0/6790 [00:00<?, ?it/s]"
      ]
     },
     "metadata": {},
     "output_type": "display_data"
    },
    {
     "data": {
      "application/vnd.jupyter.widget-view+json": {
       "model_id": "cecb112552d848f1ae847f39a23275dc",
       "version_major": 2,
       "version_minor": 0
      },
      "text/plain": [
       "  0%|          | 0/6790 [00:00<?, ?it/s]"
      ]
     },
     "metadata": {},
     "output_type": "display_data"
    },
    {
     "data": {
      "application/vnd.jupyter.widget-view+json": {
       "model_id": "f793a94f7f6740ac939835d328919f6b",
       "version_major": 2,
       "version_minor": 0
      },
      "text/plain": [
       "  0%|          | 0/6790 [00:00<?, ?it/s]"
      ]
     },
     "metadata": {},
     "output_type": "display_data"
    },
    {
     "data": {
      "application/vnd.jupyter.widget-view+json": {
       "model_id": "d445b112bfda4d6aaa7be2c236bbb73e",
       "version_major": 2,
       "version_minor": 0
      },
      "text/plain": [
       "  0%|          | 0/6790 [00:00<?, ?it/s]"
      ]
     },
     "metadata": {},
     "output_type": "display_data"
    },
    {
     "data": {
      "application/vnd.jupyter.widget-view+json": {
       "model_id": "dde82ca47fd144e7a2cfec53fe5435a1",
       "version_major": 2,
       "version_minor": 0
      },
      "text/plain": [
       "  0%|          | 0/6790 [00:00<?, ?it/s]"
      ]
     },
     "metadata": {},
     "output_type": "display_data"
    },
    {
     "data": {
      "application/vnd.jupyter.widget-view+json": {
       "model_id": "89171e8d9341441cb591ec572c6efdf5",
       "version_major": 2,
       "version_minor": 0
      },
      "text/plain": [
       "  0%|          | 0/6790 [00:00<?, ?it/s]"
      ]
     },
     "metadata": {},
     "output_type": "display_data"
    },
    {
     "data": {
      "application/vnd.jupyter.widget-view+json": {
       "model_id": "0852184c1cad4fd0a8d7f1277f5fa2ad",
       "version_major": 2,
       "version_minor": 0
      },
      "text/plain": [
       "  0%|          | 0/6790 [00:00<?, ?it/s]"
      ]
     },
     "metadata": {},
     "output_type": "display_data"
    },
    {
     "data": {
      "application/vnd.jupyter.widget-view+json": {
       "model_id": "402675731d3f43d1895b80d283266a18",
       "version_major": 2,
       "version_minor": 0
      },
      "text/plain": [
       "  0%|          | 0/6790 [00:00<?, ?it/s]"
      ]
     },
     "metadata": {},
     "output_type": "display_data"
    },
    {
     "data": {
      "application/vnd.jupyter.widget-view+json": {
       "model_id": "a7597a6575d54c90bacfe806a0c2fb39",
       "version_major": 2,
       "version_minor": 0
      },
      "text/plain": [
       "  0%|          | 0/6790 [00:00<?, ?it/s]"
      ]
     },
     "metadata": {},
     "output_type": "display_data"
    },
    {
     "data": {
      "application/vnd.jupyter.widget-view+json": {
       "model_id": "f90d43482f0c47058037f84140b4cb1a",
       "version_major": 2,
       "version_minor": 0
      },
      "text/plain": [
       "  0%|          | 0/6790 [00:00<?, ?it/s]"
      ]
     },
     "metadata": {},
     "output_type": "display_data"
    }
   ],
   "source": [
    "N = int(round(arg.count() * .65)) # 65% de todos los chunks\n",
    "\n",
    "for pregunta in tqdm(preguntas):\n",
    "    relevant_chunks = arg.query(\n",
    "        query_texts=pregunta, \n",
    "        n_results=N,\n",
    "        include=['embeddings', 'documents', 'distances']\n",
    "    )\n",
    "\n",
    "    file_basename = f'{pregunta.qid}_embeddings'\n",
    "    [documents]     = relevant_chunks['documents']\n",
    "    [ids]           = relevant_chunks['ids']\n",
    "    [distances]     = relevant_chunks['distances']\n",
    "    [embeddings]    = relevant_chunks['embeddings']\n",
    "\n",
    "    tvs = map(TaggedVector.for_question(pregunta.qid), zip(ids, documents, distances, embeddings))\n",
    "    polars.DataFrame([x.as_record() for x in tqdm(list(tvs))]).sort('distance', descending=True).write_parquet('../data/'+file_basename+'.parquet')"
   ]
  },
  {
   "cell_type": "code",
   "execution_count": null,
   "metadata": {},
   "outputs": [],
   "source": []
  }
 ],
 "metadata": {
  "kernelspec": {
   "display_name": "venv",
   "language": "python",
   "name": "python3"
  },
  "language_info": {
   "codemirror_mode": {
    "name": "ipython",
    "version": 3
   },
   "file_extension": ".py",
   "mimetype": "text/x-python",
   "name": "python",
   "nbconvert_exporter": "python",
   "pygments_lexer": "ipython3",
   "version": "3.11.6"
  }
 },
 "nbformat": 4,
 "nbformat_minor": 2
}
