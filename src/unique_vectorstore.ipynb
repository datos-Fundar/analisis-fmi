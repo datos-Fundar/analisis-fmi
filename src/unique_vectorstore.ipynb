{
 "cells": [
  {
   "cell_type": "code",
   "execution_count": 1,
   "metadata": {},
   "outputs": [],
   "source": [
    "from glob import glob\n",
    "from tqdm.auto import tqdm\n",
    "import polars\n",
    "\n",
    "embeddings = glob('../data/q?_embeddings.parquet')\n",
    "tables = [polars.read_parquet(x) for x in embeddings]\n",
    "df = polars.concat(tables)\n",
    "df = df.select('vector_id')\n",
    "unique_ids = df['vector_id'].unique().sort().to_list()"
   ]
  },
  {
   "cell_type": "code",
   "execution_count": 2,
   "metadata": {},
   "outputs": [],
   "source": [
    "import chromadb\n",
    "arg = chromadb.PersistentClient('./persist').get_collection('imf_publications_arg')"
   ]
  },
  {
   "cell_type": "code",
   "execution_count": 3,
   "metadata": {},
   "outputs": [],
   "source": [
    "vectors = arg.get(ids=unique_ids)"
   ]
  },
  {
   "cell_type": "code",
   "execution_count": 4,
   "metadata": {},
   "outputs": [],
   "source": [
    "polars.DataFrame([\n",
    "    vectors['metadatas'][i] \n",
    "    | dict(\n",
    "        vector_id=vectors['ids'][i],\n",
    "        text=vectors['documents'][i]\n",
    "    )\n",
    "    \n",
    "    for i in \n",
    "    range(len(vectors['metadatas']))\n",
    "]).write_parquet('../data/arg_embeddings.parquet')"
   ]
  },
  {
   "cell_type": "code",
   "execution_count": null,
   "metadata": {},
   "outputs": [],
   "source": []
  }
 ],
 "metadata": {
  "kernelspec": {
   "display_name": "venv",
   "language": "python",
   "name": "python3"
  },
  "language_info": {
   "codemirror_mode": {
    "name": "ipython",
    "version": 3
   },
   "file_extension": ".py",
   "mimetype": "text/x-python",
   "name": "python",
   "nbconvert_exporter": "python",
   "pygments_lexer": "ipython3",
   "version": "3.11.6"
  }
 },
 "nbformat": 4,
 "nbformat_minor": 2
}
